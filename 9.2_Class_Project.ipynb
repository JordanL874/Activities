{
 "cells": [
  {
   "cell_type": "code",
   "execution_count": 27,
   "metadata": {},
   "outputs": [
    {
     "name": "stdout",
     "output_type": "stream",
     "text": [
      "<Response [401]>\n"
     ]
    }
   ],
   "source": [
    "#Set up your Python environment and install the necessary packages, including requests and dotenv. \n",
    "#Import the required libraries in your Python script.\n",
    "import requests\n",
    "import os\n",
    "from dotenv import load_dotenv\n",
    "import pandas as pd\n",
    "import json\n",
    "\n",
    "#Load your OpenWeatherMap API key from the environment variables using load_dotenv() and os.getenv().\n",
    "load_dotenv()\n",
    "api_key = os.getenv('API_KEY')\n",
    "#print(api_key)\n",
    "\n",
    "#Choose a specific location for which you want to retrieve weather information. \n",
    "location = input(\"Enter in a location\")\n",
    "\n",
    "#Construct the API request URL to fetch the current weather data for the chosen location. \n",
    "#Include your API key as a query parameter in the URL.\n",
    "#Make an API request to the OpenWeatherMap API using requests.get() and the constructed URL.\n",
    "try:\n",
    "    response = requests.get('https://api.openweathermap.org/data/2.5/weather?location={location}&appid={API key}')\n",
    "    print(response)\n",
    "\n",
    "except requests.exceptions.RequestException as e:\n",
    "    print(\"connection error occured:\",e)\n",
    "\n"
   ]
  }
 ],
 "metadata": {
  "kernelspec": {
   "display_name": "Python 3",
   "language": "python",
   "name": "python3"
  },
  "language_info": {
   "codemirror_mode": {
    "name": "ipython",
    "version": 3
   },
   "file_extension": ".py",
   "mimetype": "text/x-python",
   "name": "python",
   "nbconvert_exporter": "python",
   "pygments_lexer": "ipython3",
   "version": "3.11.3"
  },
  "orig_nbformat": 4
 },
 "nbformat": 4,
 "nbformat_minor": 2
}
